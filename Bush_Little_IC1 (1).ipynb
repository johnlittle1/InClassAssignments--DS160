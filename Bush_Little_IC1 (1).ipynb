{
 "cells": [
  {
   "cell_type": "markdown",
   "id": "79789ce4-98a7-48f3-8f7b-bb554ef3e9a3",
   "metadata": {},
   "source": [
    "### In-Class Assignment: Web Scraping and Data Extraction from a New Webpage\n",
    "Use the requests library to fetch a new webpage.\n",
    "Parse the HTML content using BeautifulSoup.\n",
    "Extract various elements such as figures, tables, and text.\n",
    "Work collaboratively in groups to practice web scraping and present their findings.\n",
    "- Task 1: Select a Webpage of interest (e.g., a news article, an educational resource, or a data-driven website). Ensure that the selected webpage contains a variety of elements, such as tables, figures, and text content.\n",
    "- Task 2: Fetch and Parse the Webpage"
   ]
  },
  {
   "cell_type": "code",
   "execution_count": 4,
   "id": "be4f77ea-e461-4eba-8185-b6be1de4403a",
   "metadata": {},
   "outputs": [],
   "source": [
    "import requests\n",
    "from bs4 import BeautifulSoup\n",
    "\n",
    "url = 'https://en.wikipedia.org/wiki/List_of_manufacturers_by_motor_vehicle_production'\n",
    "response = requests.get(url)"
   ]
  },
  {
   "cell_type": "code",
   "execution_count": 5,
   "id": "86f50e8d-5bf2-411f-b4d8-207b22dee858",
   "metadata": {},
   "outputs": [
    {
     "name": "stdout",
     "output_type": "stream",
     "text": [
      "Successfully fetched the webpage!\n"
     ]
    }
   ],
   "source": [
    "\n",
    "# Check if the request was successful\n",
    "if response.status_code == 200:\n",
    "    print(\"Successfully fetched the webpage!\")\n",
    "else:\n",
    "    print(\"Failed to fetch the webpage.\")"
   ]
  },
  {
   "cell_type": "code",
   "execution_count": 6,
   "id": "0bf3766a-54cb-496d-98aa-825a9531e225",
   "metadata": {},
   "outputs": [],
   "source": [
    "\n",
    "# Parse the HTML content using BeautifulSoup\n",
    "soup = BeautifulSoup(response.text, 'html.parser')"
   ]
  },
  {
   "cell_type": "markdown",
   "id": "364380c0-c7a8-421e-8828-a2519e1c8c4f",
   "metadata": {},
   "source": [
    "### Task 3: Extract Elements"
   ]
  },
  {
   "cell_type": "code",
   "execution_count": 7,
   "id": "a322f402-4644-4fd2-acbe-c0f090ba74af",
   "metadata": {},
   "outputs": [
    {
     "name": "stdout",
     "output_type": "stream",
     "text": [
      "Image URLs: ['/static/images/icons/wikipedia.png', '/static/images/mobile/copyright/wikipedia-wordmark-en.svg', '/static/images/mobile/copyright/wikipedia-tagline-en.svg', '//upload.wikimedia.org/wikipedia/commons/thumb/5/53/Ambox_current_red_Americas.svg/42px-Ambox_current_red_Americas.svg.png', '//upload.wikimedia.org/wikipedia/commons/thumb/2/22/Motor_vehicles_produced_by_country_2013.png/220px-Motor_vehicles_produced_by_country_2013.png', '//upload.wikimedia.org/wikipedia/en/thumb/1/1d/Information_icon4.svg/40px-Information_icon4.svg.png', '//upload.wikimedia.org/wikipedia/en/thumb/9/96/Symbol_category_class.svg/16px-Symbol_category_class.svg.png', '//upload.wikimedia.org/wikipedia/en/thumb/4/4a/Commons-logo.svg/12px-Commons-logo.svg.png', '//upload.wikimedia.org/wikipedia/en/thumb/d/db/Symbol_list_class.svg/16px-Symbol_list_class.svg.png', '//upload.wikimedia.org/wikipedia/en/thumb/e/e2/Symbol_portal_class.svg/16px-Symbol_portal_class.svg.png', 'https://login.wikimedia.org/wiki/Special:CentralAutoLogin/start?type=1x1', '/static/images/footer/wikimedia-button.svg', '/static/images/footer/poweredby_mediawiki.svg']\n"
     ]
    }
   ],
   "source": [
    "#Find all images and extract their src attributes.\n",
    "images = soup.find_all('img')\n",
    "image_urls = [img['src'] for img in images if 'src' in img.attrs]\n",
    "print(\"Image URLs:\", image_urls)"
   ]
  },
  {
   "cell_type": "code",
   "execution_count": 22,
   "id": "10cc530c",
   "metadata": {},
   "outputs": [
    {
     "data": {
      "text/html": [
       "<img src=\"//upload.wikimedia.org/wikipedia/commons/thumb/2/22/Motor_vehicles_produced_by_country_2013.png/220px-Motor_vehicles_produced_by_country_2013.png\"/>"
      ],
      "text/plain": [
       "<IPython.core.display.Image object>"
      ]
     },
     "metadata": {},
     "output_type": "display_data"
    }
   ],
   "source": [
    "from IPython.display import Image, display\n",
    "image_urls = ['/static/images/icons/wikipedia.png', '/static/images/mobile/copyright/wikipedia-wordmark-en.svg', '/static/images/mobile/copyright/wikipedia-tagline-en.svg', '//upload.wikimedia.org/wikipedia/commons/thumb/5/53/Ambox_current_red_Americas.svg/42px-Ambox_current_red_Americas.svg.png', '//upload.wikimedia.org/wikipedia/commons/thumb/2/22/Motor_vehicles_produced_by_country_2013.png/220px-Motor_vehicles_produced_by_country_2013.png', '//upload.wikimedia.org/wikipedia/en/thumb/1/1d/Information_icon4.svg/40px-Information_icon4.svg.png', '//upload.wikimedia.org/wikipedia/en/thumb/9/96/Symbol_category_class.svg/16px-Symbol_category_class.svg.png', '//upload.wikimedia.org/wikipedia/en/thumb/4/4a/Commons-logo.svg/12px-Commons-logo.svg.png', '//upload.wikimedia.org/wikipedia/en/thumb/d/db/Symbol_list_class.svg/16px-Symbol_list_class.svg.png', '//upload.wikimedia.org/wikipedia/en/thumb/e/e2/Symbol_portal_class.svg/16px-Symbol_portal_class.svg.png', 'https://login.wikimedia.org/wiki/Special:CentralAutoLogin/start?type=1x1', '/static/images/footer/wikimedia-button.svg', '/static/images/footer/poweredby_mediawiki.svg']  # Replace with your actual list\n",
    "image_index = 4 \n",
    "\n",
    "if image_urls and 4<= image_index < len(image_urls):\n",
    "    image_url = image_urls[image_index]\n",
    "    \n",
    "    # Display the image\n",
    "    display(Image(url=image_url))\n",
    "else:\n",
    "    print(\"Invalid index or no images found.\")\n"
   ]
  },
  {
   "cell_type": "code",
   "execution_count": 38,
   "id": "d94b7c11-6525-4913-a8d0-02684430acc3",
   "metadata": {},
   "outputs": [
    {
     "name": "stdout",
     "output_type": "stream",
     "text": [
      "Table 3:\n",
      "    Rank             Group        Country  Sold vehicles (2023)[18]\n",
      "0     1            Toyota          Japan                  10307395\n",
      "1     2  Volkswagen Group        Germany                   9239575\n",
      "2     3       Hyundai/Kia    South Korea                   7302451\n",
      "3     4        Stellantis    Netherlands                   6392600\n",
      "4     5    General Motors  United States                   6188476\n",
      "5     6              Ford  United States                   4413545\n",
      "6     7             Honda          Japan                   4188039\n",
      "7     8            Nissan          Japan                   3374271\n",
      "8     9               BMW        Germany                   2555341\n",
      "9    10           Changan          China                   2553052\n"
     ]
    }
   ],
   "source": [
    "# Locate and extract all tables on the webpage, converting them into Pandas DataFrames.\n",
    "import pandas as pd\n",
    "\n",
    "tables = soup.find_all('table')\n",
    "df = [pd.read_html(str(table))[0] for table in tables]\n",
    "table_index=2\n",
    "print(f\"Table {table_index + 1}:\\n\", df[table_index])"
   ]
  },
  {
   "cell_type": "code",
   "execution_count": 47,
   "id": "a1e03c38-9e7e-4092-896e-b5ebf30e23ef",
   "metadata": {},
   "outputs": [
    {
     "name": "stdout",
     "output_type": "stream",
     "text": [
      "\n",
      " This is a list of manufacturers by motor vehicle production, by year, based on Organisation Internationale des Constructeurs d'Automobiles (OICA).\n",
      " Figures include passenger cars, light commercial vehicles, minibuses, trucks, buses and coaches. OICA defines these entries as follows:[1]\n",
      " Motor vehicle production by manufacturer (top five groups)\n",
      " The summary chart includes the five largest worldwide automotive manufacturing groups as of 2017 by number of vehicles produced. Those same groups held the top 5 positions 2007 to 2019; Hyundai / Kia had a lower rank until it took the fifth spot in 2007 from the at that time split German-American auto manufacturer DaimlerChrysler, while Ford became surpassed by Honda in 2020, and even Nissan in 2021, before surpassing them again in 2022. Figures were compiled by the International Organization of Motor Vehicle Manufacturers (OICA) before the year 2018:\n",
      "\n"
     ]
    }
   ],
   "source": [
    "#Extract the main text content, such as paragraphs or headings.\n",
    "paragraphs = soup.find_all('p')\n",
    "text_content = ' '.join([para.get_text() for para in paragraphs])\n",
    "print(text_content[:908])  # Print the first 500 characters"
   ]
  },
  {
   "cell_type": "markdown",
   "id": "9ae65d97-d34f-4e9f-9281-9d8b9b1fe085",
   "metadata": {},
   "source": [
    "### Task 4: Analyze and Discuss Findings\n",
    "Each group will analyze the extracted data and discuss the following:\n",
    "- What figures (images) were extracted and what do they represent?\n",
    "- What information is contained in the tables, and how does it contribute to the overall content of the webpage?\n",
    "- What is the main focus of the text content extracted? How does it relate to the images and tables?\n",
    "- Discuss the challenges faced during extraction, such as dealing with complex HTML structures or incomplete data."
   ]
  },
  {
   "cell_type": "markdown",
   "id": "18c36f0f",
   "metadata": {},
   "source": [
    "1.The main map image shows a heat map of vehicles produced by country where the darker the country the more vehicles produced.\n",
    "2.The information contained is the number of vehicles sold by each manufacturing group in 2023. It contributes by showing the 2023 numbers and being able to compare them to other years.\n",
    "3.The main focus of the extracted text is to explain the tables a little bit and to give facts on which companies produced the most vehicles during which years.\n",
    "4.We had a hard time when it came to getting one image out of all the images"
   ]
  },
  {
   "cell_type": "markdown",
   "id": "4d651c13-67f1-4945-9a93-71d5d241c62b",
   "metadata": {},
   "source": [
    "### Task 5: Present Findings\n",
    "Shares your analysis of the extracted elements.\n",
    "Discusses any patterns, relationships, or insights gained from the data."
   ]
  },
  {
   "cell_type": "markdown",
   "id": "cb7d6ad8-b42a-4d26-8fa4-10a9955b690a",
   "metadata": {},
   "source": [
    "Each group should submit their Jupyter notebook (or Python script) with the code, analysis, and any additional notes or reflections on the exercise."
   ]
  },
  {
   "cell_type": "markdown",
   "id": "12d14fb8",
   "metadata": {},
   "source": [
    "We found that Toyota from Japan and most of Asia produce a lot of vehicles along with a few German companies and some American companies as well. We also found South America and Africa produce very little vehicles when compared to other continents."
   ]
  },
  {
   "cell_type": "code",
   "execution_count": null,
   "id": "84ad93d4",
   "metadata": {},
   "outputs": [],
   "source": []
  }
 ],
 "metadata": {
  "kernelspec": {
   "display_name": "Python 3 (ipykernel)",
   "language": "python",
   "name": "python3"
  },
  "language_info": {
   "codemirror_mode": {
    "name": "ipython",
    "version": 3
   },
   "file_extension": ".py",
   "mimetype": "text/x-python",
   "name": "python",
   "nbconvert_exporter": "python",
   "pygments_lexer": "ipython3",
   "version": "3.11.5"
  }
 },
 "nbformat": 4,
 "nbformat_minor": 5
}
